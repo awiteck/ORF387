{
 "cells": [
  {
   "cell_type": "code",
   "execution_count": 65,
   "metadata": {
    "scrolled": true
   },
   "outputs": [],
   "source": [
    "import networkx as nx\n",
    "import pandas as pd\n",
    "import math\n",
    "import tqdm\n",
    "import matplotlib.pyplot as plt\n",
    "import numpy as np\n",
    "# from tqdm.autonotebook import tqdm\n",
    "# from tqdm.notebook import trange, tqdm\n",
    "# from tqdm import tqdm_notebook"
   ]
  },
  {
   "cell_type": "markdown",
   "metadata": {},
   "source": [
    "# Get data and filter"
   ]
  },
  {
   "cell_type": "code",
   "execution_count": 2,
   "metadata": {},
   "outputs": [
    {
     "data": {
      "text/html": [
       "<div>\n",
       "<style scoped>\n",
       "    .dataframe tbody tr th:only-of-type {\n",
       "        vertical-align: middle;\n",
       "    }\n",
       "\n",
       "    .dataframe tbody tr th {\n",
       "        vertical-align: top;\n",
       "    }\n",
       "\n",
       "    .dataframe thead th {\n",
       "        text-align: right;\n",
       "    }\n",
       "</style>\n",
       "<table border=\"1\" class=\"dataframe\">\n",
       "  <thead>\n",
       "    <tr style=\"text-align: right;\">\n",
       "      <th></th>\n",
       "      <th>node1</th>\n",
       "      <th>node2</th>\n",
       "    </tr>\n",
       "  </thead>\n",
       "  <tbody>\n",
       "    <tr>\n",
       "      <th>0</th>\n",
       "      <td>253601</td>\n",
       "      <td>1</td>\n",
       "    </tr>\n",
       "    <tr>\n",
       "      <th>1</th>\n",
       "      <td>20980</td>\n",
       "      <td>2</td>\n",
       "    </tr>\n",
       "    <tr>\n",
       "      <th>2</th>\n",
       "      <td>46231</td>\n",
       "      <td>3</td>\n",
       "    </tr>\n",
       "    <tr>\n",
       "      <th>3</th>\n",
       "      <td>154918</td>\n",
       "      <td>4</td>\n",
       "    </tr>\n",
       "    <tr>\n",
       "      <th>4</th>\n",
       "      <td>26370</td>\n",
       "      <td>5</td>\n",
       "    </tr>\n",
       "  </tbody>\n",
       "</table>\n",
       "</div>"
      ],
      "text/plain": [
       "    node1  node2\n",
       "0  253601      1\n",
       "1   20980      2\n",
       "2   46231      3\n",
       "3  154918      4\n",
       "4   26370      5"
      ]
     },
     "execution_count": 2,
     "metadata": {},
     "output_type": "execute_result"
    }
   ],
   "source": [
    "df = pd.read_csv('twitter_small_data.csv')\n",
    "df = df.drop(['Unnamed: 0'], axis=1)\n",
    "df.head()"
   ]
  },
  {
   "cell_type": "code",
   "execution_count": 3,
   "metadata": {},
   "outputs": [],
   "source": [
    "G = nx.from_pandas_edgelist(df.iloc[:], source = 'node1', target = 'node2', create_using=nx.DiGraph())"
   ]
  },
  {
   "cell_type": "code",
   "execution_count": 5,
   "metadata": {},
   "outputs": [
    {
     "data": {
      "text/plain": [
       "713319"
      ]
     },
     "execution_count": 5,
     "metadata": {},
     "output_type": "execute_result"
    }
   ],
   "source": [
    "# G.remove_nodes_from((n for n, d in list(G.in_degree()) if d<10))\n",
    "G.size()"
   ]
  },
  {
   "cell_type": "markdown",
   "metadata": {},
   "source": [
    "About 80.0k accounts with >= 10 followers "
   ]
  },
  {
   "cell_type": "markdown",
   "metadata": {},
   "source": [
    "# Defining our centrality function"
   ]
  },
  {
   "cell_type": "code",
   "execution_count": 228,
   "metadata": {},
   "outputs": [],
   "source": [
    "def new_centrality(G, gamma = 0.10, k=2, u = None):\n",
    "    '''\n",
    "    G: directed graph G\n",
    "    gamma: discount factor\n",
    "    k: degree of depth of our search (not recommended to do >3)\n",
    "    u: return for only a specific set of nodes (example below)\n",
    "    '''\n",
    "    G = G.reverse()  # create a reversed graph view\n",
    "    if u is None:\n",
    "        nodes = list(G.nodes)\n",
    "    else:\n",
    "        nodes = u\n",
    "    centrality_dict = {}\n",
    "    for n in tqdm.tqdm(nodes):\n",
    "        centrality_dict[n] = new_centrality_helper(G, n, gamma=gamma, k=k, curr_depth = 0)\n",
    "    G = G.reverse()\n",
    "    return centrality_dict\n",
    "\n",
    "def new_centrality_helper(G, n, gamma = 0.25, k=2, curr_depth = 0):\n",
    "    if (curr_depth > k):\n",
    "        return 0\n",
    "    centrality = 0;\n",
    "    for neighbor in G.neighbors(n):\n",
    "        centrality += new_centrality_helper(G, neighbor, gamma, k, curr_depth + 1)\n",
    "    return math.exp(-gamma * curr_depth) + centrality"
   ]
  },
  {
   "cell_type": "markdown",
   "metadata": {},
   "source": [
    "# NOTE NOTE NOTE: you should not have to find the centralities! I already did them. Instead, just upload them from the `centralities.csv` file. "
   ]
  },
  {
   "cell_type": "markdown",
   "metadata": {},
   "source": [
    "## For k=2"
   ]
  },
  {
   "cell_type": "code",
   "execution_count": 42,
   "metadata": {
    "scrolled": true
   },
   "outputs": [
    {
     "name": "stderr",
     "output_type": "stream",
     "text": [
      "100%|██████████| 404719/404719 [01:09<00:00, 5862.58it/s] \n"
     ]
    }
   ],
   "source": [
    "# Uncomment if you want to calculate the centralities\n",
    "# centralities = new_centrality(G)"
   ]
  },
  {
   "cell_type": "code",
   "execution_count": 74,
   "metadata": {},
   "outputs": [],
   "source": [
    "# centralities_arr = np.array(sorted(centralities.items()))"
   ]
  },
  {
   "cell_type": "markdown",
   "metadata": {},
   "source": [
    "### Comparing with degree centrality"
   ]
  },
  {
   "cell_type": "code",
   "execution_count": 115,
   "metadata": {},
   "outputs": [],
   "source": [
    "# deg_centralities = nx.degree_centrality(G)\n",
    "# deg_centralities_arr = np.array(sorted(deg_centralities.items()))"
   ]
  },
  {
   "cell_type": "code",
   "execution_count": 116,
   "metadata": {},
   "outputs": [
    {
     "name": "stdout",
     "output_type": "stream",
     "text": [
      "404719 404719\n"
     ]
    }
   ],
   "source": [
    "# print(len(deg_centralities_arr), len(centralities_arr))"
   ]
  },
  {
   "cell_type": "code",
   "execution_count": 118,
   "metadata": {
    "scrolled": true
   },
   "outputs": [
    {
     "data": {
      "text/plain": [
       "Text(0, 0.5, 'Our centrality')"
      ]
     },
     "execution_count": 118,
     "metadata": {},
     "output_type": "execute_result"
    },
    {
     "data": {
      "image/png": "[encoded data removed]",
      "text/plain": [
       "<Figure size 432x288 with 1 Axes>"
      ]
     },
     "metadata": {
      "needs_background": "light"
     },
     "output_type": "display_data"
    }
   ],
   "source": [
    "plt.scatter(deg_centralities_arr[:,1][:10000], centralities_arr[:,1][:10000])\n",
    "plt.xlim((1e-7, 8e-5))\n",
    "plt.ylim((0, 5000))\n",
    "plt.xlabel(\"Degree Centrality\")\n",
    "plt.ylabel(\"Our centrality\")"
   ]
  },
  {
   "cell_type": "markdown",
   "metadata": {},
   "source": [
    "### Comparing with PageRank"
   ]
  },
  {
   "cell_type": "code",
   "execution_count": 119,
   "metadata": {},
   "outputs": [],
   "source": [
    "# pageranks = nx.pagerank(G)\n",
    "# pageranks_arr = np.array(sorted(pageranks.items()))"
   ]
  },
  {
   "cell_type": "code",
   "execution_count": 190,
   "metadata": {},
   "outputs": [
    {
     "data": {
      "text/plain": [
       "Text(0, 0.5, 'Our centrality')"
      ]
     },
     "execution_count": 190,
     "metadata": {},
     "output_type": "execute_result"
    },
    {
     "data": {
      "image/png": "[encoded data removed]",
      "text/plain": [
       "<Figure size 432x288 with 1 Axes>"
      ]
     },
     "metadata": {
      "needs_background": "light"
     },
     "output_type": "display_data"
    }
   ],
   "source": [
    "plt.scatter(pageranks_arr[:,1][:400000], centralities_arr[:,1][:400000], marker=\".\")\n",
    "plt.xlim((1e-7, 9e-4))\n",
    "plt.ylim((0, 15000))\n",
    "plt.xlabel(\"PageRank\")\n",
    "plt.ylabel(\"Our centrality\")"
   ]
  },
  {
   "cell_type": "markdown",
   "metadata": {},
   "source": [
    "### Comparing with betweeness centrality"
   ]
  },
  {
   "cell_type": "code",
   "execution_count": 121,
   "metadata": {
    "scrolled": true
   },
   "outputs": [],
   "source": [
    "# betweenness = nx.betweenness_centrality(G)\n",
    "# betweenness_arr = np.array(sorted(betweenness.items()))"
   ]
  },
  {
   "cell_type": "code",
   "execution_count": 122,
   "metadata": {},
   "outputs": [],
   "source": [
    "# plt.scatter(betweenness_arr[:,1][:100000], centralities_arr[:,1][:100000], marker=\".\")\n",
    "# plt.xlim((1e-7, 9e-4))\n",
    "# plt.ylim((0, 15000))\n",
    "# plt.xlabel(\"Betweenness\")\n",
    "# plt.ylabel(\"Our centrality\")"
   ]
  },
  {
   "cell_type": "markdown",
   "metadata": {},
   "source": [
    "### Comparing with closeness centrality"
   ]
  },
  {
   "cell_type": "code",
   "execution_count": 123,
   "metadata": {},
   "outputs": [],
   "source": [
    "# closeness = nx.closeness_centrality(G)\n",
    "# closeness_arr = np.array(sorted(closeness.items()))"
   ]
  },
  {
   "cell_type": "code",
   "execution_count": 167,
   "metadata": {
    "scrolled": true
   },
   "outputs": [
    {
     "data": {
      "text/plain": [
       "Text(0, 0.5, 'Our centrality')"
      ]
     },
     "execution_count": 167,
     "metadata": {},
     "output_type": "execute_result"
    },
    {
     "data": {
      "image/png": "[encoded data removed]",
      "text/plain": [
       "<Figure size 432x288 with 1 Axes>"
      ]
     },
     "metadata": {
      "needs_background": "light"
     },
     "output_type": "display_data"
    }
   ],
   "source": [
    "plt.scatter(closeness_arr[:,1][:100000], centralities_arr[:,1][:100000], marker=\".\")\n",
    "plt.xlim((0, .125))\n",
    "plt.ylim((0, 15000))\n",
    "plt.xlabel(\"Closeness\")\n",
    "plt.ylabel(\"Our centrality\")"
   ]
  },
  {
   "cell_type": "markdown",
   "metadata": {},
   "source": [
    "### Degree vs pagerank"
   ]
  },
  {
   "cell_type": "code",
   "execution_count": 206,
   "metadata": {},
   "outputs": [
    {
     "data": {
      "text/plain": [
       "Text(0, 0.5, 'Degree Centrality')"
      ]
     },
     "execution_count": 206,
     "metadata": {},
     "output_type": "execute_result"
    },
    {
     "data": {
      "image/png": "[encoded data removed]",
      "text/plain": [
       "<Figure size 432x288 with 1 Axes>"
      ]
     },
     "metadata": {
      "needs_background": "light"
     },
     "output_type": "display_data"
    }
   ],
   "source": [
    "plt.scatter(pageranks_arr[:,1][:400000], deg_centralities_arr[:,1][:400000], marker=\".\")\n",
    "plt.xlim((0, 0.0009))\n",
    "plt.ylim((0, 0.0015))\n",
    "\n",
    "plt.xlabel(\"Pagerank\")\n",
    "plt.ylabel(\"Degree Centrality\")\n"
   ]
  },
  {
   "cell_type": "markdown",
   "metadata": {},
   "source": [
    "## For k=3"
   ]
  },
  {
   "cell_type": "code",
   "execution_count": 207,
   "metadata": {},
   "outputs": [
    {
     "name": "stderr",
     "output_type": "stream",
     "text": [
      "100%|██████████| 404719/404719 [40:56<00:00, 164.75it/s]   \n"
     ]
    }
   ],
   "source": [
    "# centralies_3 = new_centrality(G, k=3, gamma = 0.1)#, u=list(G.nodes)[:1000])"
   ]
  },
  {
   "cell_type": "code",
   "execution_count": 229,
   "metadata": {
    "scrolled": true
   },
   "outputs": [],
   "source": [
    "# centralities_2 = list(np.array(sorted(centralities.items()))[:, 1])\n",
    "# centralities_3 = list(np.array(sorted(centralies_3.items()))[:, 1])"
   ]
  },
  {
   "cell_type": "code",
   "execution_count": 222,
   "metadata": {},
   "outputs": [],
   "source": [
    "# s = 1.0 / (len(G) - 1.0)\n",
    "# centralities_2_new = [i * s for i in centralities_2]\n",
    "# centralities_3_new = [i * s for i in centralities_3]"
   ]
  },
  {
   "cell_type": "markdown",
   "metadata": {},
   "source": [
    "### Save centralities as csv"
   ]
  },
  {
   "cell_type": "code",
   "execution_count": 223,
   "metadata": {},
   "outputs": [],
   "source": [
    "# import pandas as pd\n",
    "# cents = {\"k=2 centrality\": centralities_2_new, \n",
    "#          \"k=3 centrality\": centralities_3_new,\n",
    "#          \"pagerank\": list(pageranks_arr[:, 1]),\n",
    "#          \"degree_centrality\": list(deg_centralities_arr[:, 1]), \n",
    "#          \"closeness_centrality\": list(closeness_arr[:, 1])}\n"
   ]
  },
  {
   "cell_type": "code",
   "execution_count": 224,
   "metadata": {},
   "outputs": [],
   "source": [
    "# df = pd.DataFrame(cents)\n",
    "# df.to_csv('centralities.csv')"
   ]
  },
  {
   "cell_type": "code",
   "execution_count": 225,
   "metadata": {},
   "outputs": [],
   "source": [
    "# df_test = pd.read_csv('centralities.csv')"
   ]
  },
  {
   "cell_type": "code",
   "execution_count": 226,
   "metadata": {},
   "outputs": [
    {
     "data": {
      "text/html": [
       "<div>\n",
       "<style scoped>\n",
       "    .dataframe tbody tr th:only-of-type {\n",
       "        vertical-align: middle;\n",
       "    }\n",
       "\n",
       "    .dataframe tbody tr th {\n",
       "        vertical-align: top;\n",
       "    }\n",
       "\n",
       "    .dataframe thead th {\n",
       "        text-align: right;\n",
       "    }\n",
       "</style>\n",
       "<table border=\"1\" class=\"dataframe\">\n",
       "  <thead>\n",
       "    <tr style=\"text-align: right;\">\n",
       "      <th></th>\n",
       "      <th>Unnamed: 0</th>\n",
       "      <th>k=2 centrality</th>\n",
       "      <th>k=3 centrality</th>\n",
       "      <th>pagerank</th>\n",
       "      <th>degree_centrality</th>\n",
       "      <th>closeness_centrality</th>\n",
       "    </tr>\n",
       "  </thead>\n",
       "  <tbody>\n",
       "    <tr>\n",
       "      <th>0</th>\n",
       "      <td>0</td>\n",
       "      <td>0.000286</td>\n",
       "      <td>0.000921</td>\n",
       "      <td>0.000002</td>\n",
       "      <td>0.000002</td>\n",
       "      <td>0.006794</td>\n",
       "    </tr>\n",
       "    <tr>\n",
       "      <th>1</th>\n",
       "      <td>1</td>\n",
       "      <td>0.000620</td>\n",
       "      <td>0.001890</td>\n",
       "      <td>0.000012</td>\n",
       "      <td>0.000002</td>\n",
       "      <td>0.054225</td>\n",
       "    </tr>\n",
       "    <tr>\n",
       "      <th>2</th>\n",
       "      <td>2</td>\n",
       "      <td>0.000174</td>\n",
       "      <td>0.002353</td>\n",
       "      <td>0.000009</td>\n",
       "      <td>0.000002</td>\n",
       "      <td>0.050009</td>\n",
       "    </tr>\n",
       "    <tr>\n",
       "      <th>3</th>\n",
       "      <td>3</td>\n",
       "      <td>0.000446</td>\n",
       "      <td>0.002919</td>\n",
       "      <td>0.000002</td>\n",
       "      <td>0.000002</td>\n",
       "      <td>0.033050</td>\n",
       "    </tr>\n",
       "    <tr>\n",
       "      <th>4</th>\n",
       "      <td>4</td>\n",
       "      <td>0.000656</td>\n",
       "      <td>0.001988</td>\n",
       "      <td>0.000021</td>\n",
       "      <td>0.000002</td>\n",
       "      <td>0.055631</td>\n",
       "    </tr>\n",
       "  </tbody>\n",
       "</table>\n",
       "</div>"
      ],
      "text/plain": [
       "   Unnamed: 0  k=2 centrality  k=3 centrality  pagerank  degree_centrality  \\\n",
       "0           0        0.000286        0.000921  0.000002           0.000002   \n",
       "1           1        0.000620        0.001890  0.000012           0.000002   \n",
       "2           2        0.000174        0.002353  0.000009           0.000002   \n",
       "3           3        0.000446        0.002919  0.000002           0.000002   \n",
       "4           4        0.000656        0.001988  0.000021           0.000002   \n",
       "\n",
       "   closeness_centrality  \n",
       "0              0.006794  \n",
       "1              0.054225  \n",
       "2              0.050009  \n",
       "3              0.033050  \n",
       "4              0.055631  "
      ]
     },
     "execution_count": 226,
     "metadata": {},
     "output_type": "execute_result"
    }
   ],
   "source": [
    "# df_test.head()"
   ]
  }
 ],
 "metadata": {
  "kernelspec": {
   "display_name": "Python 3",
   "language": "python",
   "name": "python3"
  },
  "language_info": {
   "codemirror_mode": {
    "name": "ipython",
    "version": 3
   },
   "file_extension": ".py",
   "mimetype": "text/x-python",
   "name": "python",
   "nbconvert_exporter": "python",
   "pygments_lexer": "ipython3",
   "version": "3.7.3"
  },
  "toc": {
   "base_numbering": 1,
   "nav_menu": {},
   "number_sections": true,
   "sideBar": true,
   "skip_h1_title": false,
   "title_cell": "Table of Contents",
   "title_sidebar": "Contents",
   "toc_cell": false,
   "toc_position": {},
   "toc_section_display": true,
   "toc_window_display": false
  }
 },
 "nbformat": 4,
 "nbformat_minor": 2
}
